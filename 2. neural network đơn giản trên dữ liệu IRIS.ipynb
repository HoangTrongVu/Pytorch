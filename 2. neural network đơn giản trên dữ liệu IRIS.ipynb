{
 "cells": [
  {
   "cell_type": "markdown",
   "metadata": {},
   "source": [
    "Ta xây dựng Neural network bằng package ``torch.nn``. Mỗi ``nn.Module`` gồm nhiều lớp (layers).\n",
    "\n",
    "Quá trình train một neural network thường diễn ra như sau: \n",
    "\n",
    "- định nghĩa một neural network chứa các tham số để học (parameter hay còn gọi là weights)\n",
    "\n",
    "- lặp trên tập dữ liệu\n",
    "\n",
    "- đưa dữ liệu vào network\n",
    "\n",
    "- tính loss, propagate các gradients trở lại vào các tham số trong neural network (đối với back propagation mà ta sẽ bàn sau).\n",
    "\n",
    "- cập nhật tham số:\n",
    "    \n",
    "    ``tham số = tham số - tốc độ học * gradient``\n",
    "- Define the neural network that has some learnable parameters (or\n",
    "  weights)\n",
    "- Iterate over a dataset of inputs\n",
    "- Process input through the network\n",
    "- Compute the loss (how far is the output from being correct)\n",
    "- Propagate gradients back into the network’s parameters\n",
    "- Update the weights of the network, typically using a simple update rule:\n",
    "  ``weight = weight - learning_rate * gradient``\n",
    "\n",
    "## định nghĩa network \n",
    "\n",
    "qúa trình của chúng ta dựa trên việc viết hàm\n",
    "\n",
    "Ta ôn lại các activation function phổ biến \n",
    "\n",
    "- hàm sigmoid: $f(x)=\\frac{1}{1+e^{-x}}$\n",
    "\n",
    "- hàm tanh: $f(x)=\\frac{e^x-e^{-x}}{e^x+e^{-x}}$\n",
    "\n",
    "- hàm RELU (rectified linear unit): $f(x)= max(x,0)$"
   ]
  },
  {
   "cell_type": "markdown",
   "metadata": {},
   "source": [
    "# Ví dụ về neural network trên dữ liệu IRIS\n",
    "\n",
    "### Dữ liệu\n",
    "\n",
    "Iris là bộ dữ liệu về hoa lan. Nhiệm vụ của chúng ta là phân loại hoa dựa trên các đặc trưng của cái ta quan sát được \n",
    "\n",
    "\n",
    "| sepal_length_cm | sepal_width_cm | petal_length_cm | petal_width_cm | class           |\n",
    "|-----------------|----------------|-----------------|----------------|-----------------|\n",
    "| 5.1             | 3.5            | 1.4             | 0.2            | Iris-setosa     |\n",
    "| 7.0             | 3.2            | 4.7             | 1.4            | Iris-versicolor |\n",
    "| 6.3             | 3.3            | 6.0             | 2.5            | Iris-virginica  |\n",
    "\n",
    "\n",
    "* Có tất cả 150 quan sát, ta dùng 20% làm validation test, còn lại làm train set. \n",
    "* Download dữ liệu ở: [Data Source](https://archive.ics.uci.edu/ml/datasets/iris)"
   ]
  },
  {
   "cell_type": "code",
   "execution_count": 1,
   "metadata": {},
   "outputs": [],
   "source": [
    "import torch\n",
    "import torch.nn as nn\n",
    "import matplotlib.pyplot as plt\n",
    "\n",
    "from torch.autograd import Variable\n",
    "\n",
    "from data import iris"
   ]
  },
  {
   "cell_type": "code",
   "execution_count": 2,
   "metadata": {},
   "outputs": [
    {
     "name": "stdout",
     "output_type": "stream",
     "text": [
      "sepal_length_cm,sepal_width_cm,petal_length_cm,petal_width_cm,class\r\n",
      "5.1,3.5,1.4,0.2,Iris-setosa\r\n",
      "4.9,3.0,1.4,0.2,Iris-setosa\r\n",
      "4.7,3.2,1.3,0.2,Iris-setosa\r\n",
      "4.6,3.1,1.5,0.2,Iris-setosa\r\n",
      "5.0,3.6,1.4,0.2,Iris-setosa\r\n",
      "5.4,3.9,1.7,0.4,Iris-setosa\r\n",
      "4.6,3.4,1.4,0.3,Iris-setosa\r\n",
      "5.0,3.4,1.5,0.2,Iris-setosa\r\n",
      "4.4,2.9,1.4,0.2,Iris-setosa\r\n"
     ]
    }
   ],
   "source": [
    "!head data/iris.data.txt"
   ]
  },
  {
   "cell_type": "markdown",
   "metadata": {},
   "source": [
    "### Tạo Fully Connected Feed Forward Neural Network"
   ]
  },
  {
   "cell_type": "markdown",
   "metadata": {},
   "source": [
    "Training neural nets trong pytorch cũng ở dạng graph, khá giống trong Tensorflow. Tất cả các network trong Pytorch được thực hiện dưới dạng class, kế thừa từ nn.Module. Trong đó, ta phải tạo 2 phương pháp: init và forward\n",
    "\n",
    "Trong ``init``, ta tạo các hàm và rồi trong ``forward`` thì lồng chúng lại với nhau giống như mô hình cây \n",
    "\n",
    "Mặc định là dữ liệu được train trong mini-batch bằng cách sử dụng ``DataLoader``"
   ]
  },
  {
   "cell_type": "code",
   "execution_count": 3,
   "metadata": {},
   "outputs": [],
   "source": [
    "class IrisNet(nn.Module):\n",
    "    \n",
    "    # input_size: số đặc trưng\n",
    "    # hidden1_size, hidden2_size: số node cho hai hidden layer\n",
    "    # num_classes là số lớp có trong output\n",
    "    def __init__(self, input_size, hidden1_size, hidden2_size,\n",
    "                 num_classes):\n",
    "        \n",
    "        # init: constructor trong python\n",
    "        # super: để truyền tham số (arguments) của child class \n",
    "        # vào parent class\n",
    "        super(IrisNet, self).__init__()\n",
    "        self.fc1 = nn.Linear(input_size, hidden1_size)\n",
    "        self.relu1 = nn.ReLU()\n",
    "        self.fc2 = nn.Linear(hidden1_size, hidden2_size)\n",
    "        self.relu2 = nn.ReLU()\n",
    "        self.fc3 = nn.Linear(hidden2_size, num_classes)  \n",
    "    \n",
    "    def forward(self, x):\n",
    "        out = self.fc1(x)\n",
    "        out = self.relu1(out)\n",
    "        out = self.fc2(out)\n",
    "        out = self.relu2(out)\n",
    "        out = self.fc3(out)\n",
    "        return out"
   ]
  },
  {
   "cell_type": "markdown",
   "metadata": {},
   "source": [
    "Trong    \n",
    "\n",
    "``def __init__(self, input_size, hidden1_size, hidden2_size, num_classes):``\n",
    "\n",
    "thì \n",
    "\n",
    "- input_size = 4\n",
    "\n",
    "- num_classes = 3 (output có 3 loại)\n",
    "\n",
    "ta chọn \n",
    "\n",
    "- hidden1_size = 100\n",
    "\n",
    "- hidden2_size = 50\n",
    "\n",
    "Do đó:"
   ]
  },
  {
   "cell_type": "code",
   "execution_count": 4,
   "metadata": {},
   "outputs": [
    {
     "name": "stdout",
     "output_type": "stream",
     "text": [
      "IrisNet(\n",
      "  (fc1): Linear(in_features=4, out_features=100, bias=True)\n",
      "  (relu1): ReLU()\n",
      "  (fc2): Linear(in_features=100, out_features=50, bias=True)\n",
      "  (relu2): ReLU()\n",
      "  (fc3): Linear(in_features=50, out_features=3, bias=True)\n",
      ")\n"
     ]
    }
   ],
   "source": [
    "our_model = IrisNet(4, 100, 50, 3)\n",
    "print(our_model)"
   ]
  },
  {
   "cell_type": "markdown",
   "metadata": {},
   "source": [
    "### Load dữ liệu và train:\n",
    "\n",
    "Thông thường ta nên chọn batch_size là lũy thừa của 2 để train nhanh hơn. Ở đây, ta chọn batch_size = 64 $= 2^6$"
   ]
  },
  {
   "cell_type": "code",
   "execution_count": 5,
   "metadata": {},
   "outputs": [],
   "source": [
    "batch_size = 64\n",
    "iris_data_file = 'data/iris.data.txt'"
   ]
  },
  {
   "cell_type": "markdown",
   "metadata": {},
   "source": [
    "Dùng hàm ``get_datasets`` để lấy dữ liệu"
   ]
  },
  {
   "cell_type": "code",
   "execution_count": 6,
   "metadata": {},
   "outputs": [],
   "source": [
    "train, test = iris.get_datasets(iris_data_file)"
   ]
  },
  {
   "cell_type": "markdown",
   "metadata": {},
   "source": [
    "Ta xem xem train, test có bao nhiêu quan sát:"
   ]
  },
  {
   "cell_type": "code",
   "execution_count": 7,
   "metadata": {},
   "outputs": [
    {
     "data": {
      "text/plain": [
       "(120, 30)"
      ]
     },
     "execution_count": 7,
     "metadata": {},
     "output_type": "execute_result"
    }
   ],
   "source": [
    "len(train), len(test)"
   ]
  },
  {
   "cell_type": "markdown",
   "metadata": {},
   "source": [
    "Mặc định là train trong mini-batch. Ta tạo loader với ``shuffle = True`` để dữ liệu được đảo ngẫu nhiên trong mỗi mini-batch ở mỗi epoch:"
   ]
  },
  {
   "cell_type": "code",
   "execution_count": 8,
   "metadata": {},
   "outputs": [],
   "source": [
    "train_loader = torch.utils.data.DataLoader(dataset=train, batch_size=batch_size, shuffle=True)\n",
    "test_loader  = torch.utils.data.DataLoader(dataset=test, batch_size=batch_size, shuffle=True)"
   ]
  },
  {
   "cell_type": "markdown",
   "metadata": {},
   "source": [
    "###  Train:\n",
    "\n",
    "Ta sử dụng tiêu chuẩn CrossEntropyLoss, chọn learning_rate (tốc độ học) là 0.01, và Stochastic Gradient Descient để tối ưu hóa"
   ]
  },
  {
   "cell_type": "code",
   "execution_count": 9,
   "metadata": {},
   "outputs": [],
   "source": [
    "criterion = nn.CrossEntropyLoss()\n",
    "\n",
    "learning_rate = 0.01\n",
    "optimizer = torch.optim.SGD(our_model.parameters(), \n",
    "                            lr=learning_rate, nesterov=True, momentum=0.9, dampening=0)  "
   ]
  },
  {
   "cell_type": "code",
   "execution_count": 12,
   "metadata": {},
   "outputs": [
    {
     "name": "stderr",
     "output_type": "stream",
     "text": [
      "/home/thu/anaconda2/lib/python2.7/site-packages/ipykernel_launcher.py:33: UserWarning: invalid index of a 0-dim tensor. This will be an error in PyTorch 0.5. Use tensor.item() to convert a 0-dim tensor to a Python number\n",
      "/home/thu/anaconda2/lib/python2.7/site-packages/ipykernel_launcher.py:37: UserWarning: invalid index of a 0-dim tensor. This will be an error in PyTorch 0.5. Use tensor.item() to convert a 0-dim tensor to a Python number\n",
      "/home/thu/anaconda2/lib/python2.7/site-packages/ipykernel_launcher.py:48: UserWarning: invalid index of a 0-dim tensor. This will be an error in PyTorch 0.5. Use tensor.item() to convert a 0-dim tensor to a Python number\n"
     ]
    },
    {
     "name": "stdout",
     "output_type": "stream",
     "text": [
      "Epoch 1/100, Iteration 1/1, Loss: 0.0731\n",
      "Epoch 1/100, Iteration 2/1, Loss: 0.0436\n",
      "Epoch 2/100, Iteration 1/1, Loss: 0.0210\n",
      "Epoch 2/100, Iteration 2/1, Loss: 0.1114\n",
      "Epoch 3/100, Iteration 1/1, Loss: 0.1079\n",
      "Epoch 3/100, Iteration 2/1, Loss: 0.0274\n",
      "Epoch 4/100, Iteration 1/1, Loss: 0.0784\n",
      "Epoch 4/100, Iteration 2/1, Loss: 0.0333\n",
      "Epoch 5/100, Iteration 1/1, Loss: 0.0696\n",
      "Epoch 5/100, Iteration 2/1, Loss: 0.0455\n",
      "Epoch 6/100, Iteration 1/1, Loss: 0.0467\n",
      "Epoch 6/100, Iteration 2/1, Loss: 0.0905\n",
      "Epoch 7/100, Iteration 1/1, Loss: 0.0705\n",
      "Epoch 7/100, Iteration 2/1, Loss: 0.0454\n",
      "Epoch 8/100, Iteration 1/1, Loss: 0.0700\n",
      "Epoch 8/100, Iteration 2/1, Loss: 0.0484\n",
      "Epoch 9/100, Iteration 1/1, Loss: 0.0876\n",
      "Epoch 9/100, Iteration 2/1, Loss: 0.0241\n",
      "Epoch 10/100, Iteration 1/1, Loss: 0.0362\n",
      "Epoch 10/100, Iteration 2/1, Loss: 0.0834\n",
      "Epoch 11/100, Iteration 1/1, Loss: 0.0613\n",
      "Epoch 11/100, Iteration 2/1, Loss: 0.0746\n",
      "Epoch 12/100, Iteration 1/1, Loss: 0.0517\n",
      "Epoch 12/100, Iteration 2/1, Loss: 0.0779\n",
      "Epoch 13/100, Iteration 1/1, Loss: 0.0664\n",
      "Epoch 13/100, Iteration 2/1, Loss: 0.0544\n",
      "Epoch 14/100, Iteration 1/1, Loss: 0.0523\n",
      "Epoch 14/100, Iteration 2/1, Loss: 0.0669\n",
      "Epoch 15/100, Iteration 1/1, Loss: 0.0261\n",
      "Epoch 15/100, Iteration 2/1, Loss: 0.0937\n",
      "Epoch 16/100, Iteration 1/1, Loss: 0.0768\n",
      "Epoch 16/100, Iteration 2/1, Loss: 0.0769\n",
      "Epoch 17/100, Iteration 1/1, Loss: 0.0507\n",
      "Epoch 17/100, Iteration 2/1, Loss: 0.0877\n",
      "Epoch 18/100, Iteration 1/1, Loss: 0.0674\n",
      "Epoch 18/100, Iteration 2/1, Loss: 0.0514\n",
      "Epoch 19/100, Iteration 1/1, Loss: 0.0347\n",
      "Epoch 19/100, Iteration 2/1, Loss: 0.0880\n",
      "Epoch 20/100, Iteration 1/1, Loss: 0.0523\n",
      "Epoch 20/100, Iteration 2/1, Loss: 0.1567\n",
      "Epoch 21/100, Iteration 1/1, Loss: 0.2593\n",
      "Epoch 21/100, Iteration 2/1, Loss: 0.0525\n",
      "Epoch 22/100, Iteration 1/1, Loss: 0.0403\n",
      "Epoch 22/100, Iteration 2/1, Loss: 0.0820\n",
      "Epoch 23/100, Iteration 1/1, Loss: 0.0391\n",
      "Epoch 23/100, Iteration 2/1, Loss: 0.0847\n",
      "Epoch 24/100, Iteration 1/1, Loss: 0.0768\n",
      "Epoch 24/100, Iteration 2/1, Loss: 0.0309\n",
      "Epoch 25/100, Iteration 1/1, Loss: 0.0816\n",
      "Epoch 25/100, Iteration 2/1, Loss: 0.0262\n",
      "Epoch 26/100, Iteration 1/1, Loss: 0.0655\n",
      "Epoch 26/100, Iteration 2/1, Loss: 0.1055\n",
      "Epoch 27/100, Iteration 1/1, Loss: 0.1116\n",
      "Epoch 27/100, Iteration 2/1, Loss: 0.0497\n",
      "Epoch 28/100, Iteration 1/1, Loss: 0.0789\n",
      "Epoch 28/100, Iteration 2/1, Loss: 0.0940\n",
      "Epoch 29/100, Iteration 1/1, Loss: 0.0962\n",
      "Epoch 29/100, Iteration 2/1, Loss: 0.0711\n",
      "Epoch 30/100, Iteration 1/1, Loss: 0.0661\n",
      "Epoch 30/100, Iteration 2/1, Loss: 0.0582\n",
      "Epoch 31/100, Iteration 1/1, Loss: 0.0785\n",
      "Epoch 31/100, Iteration 2/1, Loss: 0.0337\n",
      "Epoch 32/100, Iteration 1/1, Loss: 0.0809\n",
      "Epoch 32/100, Iteration 2/1, Loss: 0.0290\n",
      "Epoch 33/100, Iteration 1/1, Loss: 0.0662\n",
      "Epoch 33/100, Iteration 2/1, Loss: 0.0497\n",
      "Epoch 34/100, Iteration 1/1, Loss: 0.0462\n",
      "Epoch 34/100, Iteration 2/1, Loss: 0.1020\n",
      "Epoch 35/100, Iteration 1/1, Loss: 0.0549\n",
      "Epoch 35/100, Iteration 2/1, Loss: 0.0715\n",
      "Epoch 36/100, Iteration 1/1, Loss: 0.0814\n",
      "Epoch 36/100, Iteration 2/1, Loss: 0.0346\n",
      "Epoch 37/100, Iteration 1/1, Loss: 0.0774\n",
      "Epoch 37/100, Iteration 2/1, Loss: 0.0447\n",
      "Epoch 38/100, Iteration 1/1, Loss: 0.0453\n",
      "Epoch 38/100, Iteration 2/1, Loss: 0.1448\n",
      "Epoch 39/100, Iteration 1/1, Loss: 0.1598\n",
      "Epoch 39/100, Iteration 2/1, Loss: 0.0486\n",
      "Epoch 40/100, Iteration 1/1, Loss: 0.0971\n",
      "Epoch 40/100, Iteration 2/1, Loss: 0.0286\n",
      "Epoch 41/100, Iteration 1/1, Loss: 0.0572\n",
      "Epoch 41/100, Iteration 2/1, Loss: 0.1034\n",
      "Epoch 42/100, Iteration 1/1, Loss: 0.0656\n",
      "Epoch 42/100, Iteration 2/1, Loss: 0.0848\n",
      "Epoch 43/100, Iteration 1/1, Loss: 0.0728\n",
      "Epoch 43/100, Iteration 2/1, Loss: 0.0447\n",
      "Epoch 44/100, Iteration 1/1, Loss: 0.0328\n",
      "Epoch 44/100, Iteration 2/1, Loss: 0.0823\n",
      "Epoch 45/100, Iteration 1/1, Loss: 0.0463\n",
      "Epoch 45/100, Iteration 2/1, Loss: 0.0788\n",
      "Epoch 46/100, Iteration 1/1, Loss: 0.0706\n",
      "Epoch 46/100, Iteration 2/1, Loss: 0.0551\n",
      "Epoch 47/100, Iteration 1/1, Loss: 0.0798\n",
      "Epoch 47/100, Iteration 2/1, Loss: 0.0455\n",
      "Epoch 48/100, Iteration 1/1, Loss: 0.0372\n",
      "Epoch 48/100, Iteration 2/1, Loss: 0.0823\n",
      "Epoch 49/100, Iteration 1/1, Loss: 0.0324\n",
      "Epoch 49/100, Iteration 2/1, Loss: 0.0855\n",
      "Epoch 50/100, Iteration 1/1, Loss: 0.0397\n",
      "Epoch 50/100, Iteration 2/1, Loss: 0.0731\n",
      "Epoch 51/100, Iteration 1/1, Loss: 0.0403\n",
      "Epoch 51/100, Iteration 2/1, Loss: 0.0787\n",
      "Epoch 52/100, Iteration 1/1, Loss: 0.0641\n",
      "Epoch 52/100, Iteration 2/1, Loss: 0.0532\n",
      "Epoch 53/100, Iteration 1/1, Loss: 0.0361\n",
      "Epoch 53/100, Iteration 2/1, Loss: 0.0812\n",
      "Epoch 54/100, Iteration 1/1, Loss: 0.0716\n",
      "Epoch 54/100, Iteration 2/1, Loss: 0.0399\n",
      "Epoch 55/100, Iteration 1/1, Loss: 0.0614\n",
      "Epoch 55/100, Iteration 2/1, Loss: 0.0807\n",
      "Epoch 56/100, Iteration 1/1, Loss: 0.1030\n",
      "Epoch 56/100, Iteration 2/1, Loss: 0.0311\n",
      "Epoch 57/100, Iteration 1/1, Loss: 0.0183\n",
      "Epoch 57/100, Iteration 2/1, Loss: 0.0963\n",
      "Epoch 58/100, Iteration 1/1, Loss: 0.0323\n",
      "Epoch 58/100, Iteration 2/1, Loss: 0.0840\n",
      "Epoch 59/100, Iteration 1/1, Loss: 0.0531\n",
      "Epoch 59/100, Iteration 2/1, Loss: 0.0614\n",
      "Epoch 60/100, Iteration 1/1, Loss: 0.0513\n",
      "Epoch 60/100, Iteration 2/1, Loss: 0.1046\n",
      "Epoch 61/100, Iteration 1/1, Loss: 0.0930\n",
      "Epoch 61/100, Iteration 2/1, Loss: 0.0793\n",
      "Epoch 62/100, Iteration 1/1, Loss: 0.0825\n",
      "Epoch 62/100, Iteration 2/1, Loss: 0.0359\n",
      "Epoch 63/100, Iteration 1/1, Loss: 0.0768\n",
      "Epoch 63/100, Iteration 2/1, Loss: 0.0291\n",
      "Epoch 64/100, Iteration 1/1, Loss: 0.0884\n",
      "Epoch 64/100, Iteration 2/1, Loss: 0.0347\n",
      "Epoch 65/100, Iteration 1/1, Loss: 0.0501\n",
      "Epoch 65/100, Iteration 2/1, Loss: 0.0663\n",
      "Epoch 66/100, Iteration 1/1, Loss: 0.0558\n",
      "Epoch 66/100, Iteration 2/1, Loss: 0.0548\n",
      "Epoch 67/100, Iteration 1/1, Loss: 0.0598\n",
      "Epoch 67/100, Iteration 2/1, Loss: 0.0871\n",
      "Epoch 68/100, Iteration 1/1, Loss: 0.0155\n",
      "Epoch 68/100, Iteration 2/1, Loss: 0.1026\n",
      "Epoch 69/100, Iteration 1/1, Loss: 0.0568\n",
      "Epoch 69/100, Iteration 2/1, Loss: 0.0972\n",
      "Epoch 70/100, Iteration 1/1, Loss: 0.0639\n",
      "Epoch 70/100, Iteration 2/1, Loss: 0.0941\n",
      "Epoch 71/100, Iteration 1/1, Loss: 0.0790\n",
      "Epoch 71/100, Iteration 2/1, Loss: 0.0347\n",
      "Epoch 72/100, Iteration 1/1, Loss: 0.0185\n",
      "Epoch 72/100, Iteration 2/1, Loss: 0.1083\n",
      "Epoch 73/100, Iteration 1/1, Loss: 0.0685\n",
      "Epoch 73/100, Iteration 2/1, Loss: 0.1068\n",
      "Epoch 74/100, Iteration 1/1, Loss: 0.0506\n",
      "Epoch 74/100, Iteration 2/1, Loss: 0.0709\n",
      "Epoch 75/100, Iteration 1/1, Loss: 0.0660\n",
      "Epoch 75/100, Iteration 2/1, Loss: 0.1063\n",
      "Epoch 76/100, Iteration 1/1, Loss: 0.1384\n",
      "Epoch 76/100, Iteration 2/1, Loss: 0.0304\n",
      "Epoch 77/100, Iteration 1/1, Loss: 0.0413\n",
      "Epoch 77/100, Iteration 2/1, Loss: 0.0795\n",
      "Epoch 78/100, Iteration 1/1, Loss: 0.1008\n",
      "Epoch 78/100, Iteration 2/1, Loss: 0.0080\n",
      "Epoch 79/100, Iteration 1/1, Loss: 0.0589\n",
      "Epoch 79/100, Iteration 2/1, Loss: 0.0792\n",
      "Epoch 80/100, Iteration 1/1, Loss: 0.0512\n",
      "Epoch 80/100, Iteration 2/1, Loss: 0.0793\n",
      "Epoch 81/100, Iteration 1/1, Loss: 0.0540\n",
      "Epoch 81/100, Iteration 2/1, Loss: 0.0635\n",
      "Epoch 82/100, Iteration 1/1, Loss: 0.0737\n",
      "Epoch 82/100, Iteration 2/1, Loss: 0.0365\n",
      "Epoch 83/100, Iteration 1/1, Loss: 0.0507\n",
      "Epoch 83/100, Iteration 2/1, Loss: 0.0819\n",
      "Epoch 84/100, Iteration 1/1, Loss: 0.0319\n",
      "Epoch 84/100, Iteration 2/1, Loss: 0.1286\n",
      "Epoch 85/100, Iteration 1/1, Loss: 0.0637\n",
      "Epoch 85/100, Iteration 2/1, Loss: 0.0753\n",
      "Epoch 86/100, Iteration 1/1, Loss: 0.0938\n",
      "Epoch 86/100, Iteration 2/1, Loss: 0.0207\n",
      "Epoch 87/100, Iteration 1/1, Loss: 0.0530\n",
      "Epoch 87/100, Iteration 2/1, Loss: 0.0917\n",
      "Epoch 88/100, Iteration 1/1, Loss: 0.0841\n",
      "Epoch 88/100, Iteration 2/1, Loss: 0.0568\n",
      "Epoch 89/100, Iteration 1/1, Loss: 0.0824\n",
      "Epoch 89/100, Iteration 2/1, Loss: 0.0266\n",
      "Epoch 90/100, Iteration 1/1, Loss: 0.0771\n",
      "Epoch 90/100, Iteration 2/1, Loss: 0.0291\n",
      "Epoch 91/100, Iteration 1/1, Loss: 0.0520\n",
      "Epoch 91/100, Iteration 2/1, Loss: 0.0693\n",
      "Epoch 92/100, Iteration 1/1, Loss: 0.0808\n",
      "Epoch 92/100, Iteration 2/1, Loss: 0.0322\n",
      "Epoch 93/100, Iteration 1/1, Loss: 0.0374\n",
      "Epoch 93/100, Iteration 2/1, Loss: 0.0938\n",
      "Epoch 94/100, Iteration 1/1, Loss: 0.0707\n",
      "Epoch 94/100, Iteration 2/1, Loss: 0.0404\n",
      "Epoch 95/100, Iteration 1/1, Loss: 0.0779\n",
      "Epoch 95/100, Iteration 2/1, Loss: 0.0266\n",
      "Epoch 96/100, Iteration 1/1, Loss: 0.0575\n",
      "Epoch 96/100, Iteration 2/1, Loss: 0.0553\n",
      "Epoch 97/100, Iteration 1/1, Loss: 0.0709\n",
      "Epoch 97/100, Iteration 2/1, Loss: 0.0587\n",
      "Epoch 98/100, Iteration 1/1, Loss: 0.0340\n",
      "Epoch 98/100, Iteration 2/1, Loss: 0.0894\n",
      "Epoch 99/100, Iteration 1/1, Loss: 0.0281\n",
      "Epoch 99/100, Iteration 2/1, Loss: 0.0942\n",
      "Epoch 100/100, Iteration 1/1, Loss: 0.0507\n",
      "Epoch 100/100, Iteration 2/1, Loss: 0.1207\n"
     ]
    }
   ],
   "source": [
    "num_epochs = 100 # số lần chạy qua bộ dữ liệu\n",
    "\n",
    "train_loss = []\n",
    "test_loss = []\n",
    "train_accuracy = []\n",
    "test_accuracy = []\n",
    "\n",
    "for epoch in range(num_epochs):\n",
    "    \n",
    "    train_correct = 0\n",
    "    train_total = 0\n",
    "    \n",
    "    for i, (items, classes) in enumerate(train_loader):\n",
    "        \n",
    "        # Convert torch tensor sang Variable\n",
    "        items = Variable(items)\n",
    "        classes = Variable(classes)\n",
    "        \n",
    "        our_model.train()         \n",
    "        \n",
    "        optimizer.zero_grad() # làm sạch gradient từ past training \n",
    "        outputs = our_model(items)  # thực hiện forward pass\n",
    "        loss = criterion(outputs, classes) \n",
    "        loss.backward()       # tính gradients \n",
    "        optimizer.step()      # update tham số dựa trên gradients\n",
    "        \n",
    "        # Lưu các dự đoán đúng cho training data\n",
    "        train_total += classes.size(0)    \n",
    "        _, predicted = torch.max(outputs.data, 1)\n",
    "        train_correct += (predicted == classes.data).sum()\n",
    "\n",
    "        print ('Epoch %d/%d, Iteration %d/%d, Loss: %.4f' \n",
    "               %(epoch+1, num_epochs, i+1, len(train)//batch_size, loss.data[0]))\n",
    "\n",
    "    our_model.eval()          # đánh giá mô hình \n",
    "    \n",
    "    train_loss.append(loss.data[0])\n",
    "\n",
    "    train_accuracy.append((100 * train_correct / train_total))\n",
    "    \n",
    "    # How did we do on the test set (the unseen set)\n",
    "    # Record the correct predictions for test data\n",
    "    test_items = torch.FloatTensor(test.data.values[:, 0:4])\n",
    "    test_classes = torch.LongTensor(test.data.values[:, 4])\n",
    "\n",
    "    outputs = our_model(Variable(test_items))\n",
    "    loss = criterion(outputs, Variable(test_classes))\n",
    "    test_loss.append(loss.data[0])\n",
    "    _, predicted = torch.max(outputs.data, 1)\n",
    "    total = test_classes.size(0)\n",
    "    correct = (predicted == test_classes).sum()\n",
    "    test_accuracy.append((100 * correct / total))"
   ]
  },
  {
   "cell_type": "markdown",
   "metadata": {},
   "source": [
    "Vẽ loss theo vòng lặp:"
   ]
  },
  {
   "cell_type": "code",
   "execution_count": null,
   "metadata": {},
   "outputs": [],
   "source": [
    "fig = plt.figure(figsize=(12, 8))\n",
    "plt.plot(train_loss, label='train loss')\n",
    "plt.plot(test_loss, label='test loss')\n",
    "plt.title(\"Train and Test Loss\")\n",
    "plt.legend()\n",
    "plt.show()"
   ]
  },
  {
   "cell_type": "code",
   "execution_count": null,
   "metadata": {},
   "outputs": [],
   "source": [
    "fig = plt.figure(figsize=(12, 8))\n",
    "plt.plot(train_accuracy, label='train accuracy')\n",
    "plt.plot(test_accuracy, label='test accuracy')\n",
    "plt.title(\"Train and Test Accuracy\")\n",
    "plt.legend()\n",
    "plt.show()"
   ]
  },
  {
   "cell_type": "markdown",
   "metadata": {},
   "source": [
    "### Lưu và load lại mô hình "
   ]
  },
  {
   "cell_type": "code",
   "execution_count": null,
   "metadata": {},
   "outputs": [],
   "source": [
    "torch.save(our_model.state_dict(), \"./2.model.pth\")"
   ]
  },
  {
   "cell_type": "code",
   "execution_count": null,
   "metadata": {},
   "outputs": [],
   "source": [
    "net2 = IrisNet(4, 100, 50, 3)\n",
    "net2.load_state_dict(torch.load(\"./2.model.pth\"))"
   ]
  },
  {
   "cell_type": "code",
   "execution_count": null,
   "metadata": {},
   "outputs": [],
   "source": [
    "output = net2(Variable(torch.FloatTensor([[5.1, 3.5, 1.4, 0.2]])))"
   ]
  },
  {
   "cell_type": "code",
   "execution_count": null,
   "metadata": {},
   "outputs": [],
   "source": [
    "_, predicted_class = torch.max(output.data, 1)\n",
    "print('Predicted class: ', predicted_class.numpy()[0])\n",
    "print('Expected class: ', 0 )"
   ]
  },
  {
   "cell_type": "code",
   "execution_count": null,
   "metadata": {},
   "outputs": [],
   "source": []
  }
 ],
 "metadata": {
  "kernelspec": {
   "display_name": "Python 2",
   "language": "python",
   "name": "python2"
  },
  "language_info": {
   "codemirror_mode": {
    "name": "ipython",
    "version": 2
   },
   "file_extension": ".py",
   "mimetype": "text/x-python",
   "name": "python",
   "nbconvert_exporter": "python",
   "pygments_lexer": "ipython2",
   "version": "2.7.15"
  }
 },
 "nbformat": 4,
 "nbformat_minor": 2
}
