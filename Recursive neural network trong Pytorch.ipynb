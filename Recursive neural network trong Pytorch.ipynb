{
 "cells": [
  {
   "cell_type": "markdown",
   "metadata": {},
   "source": [
    "Recursive neural network khác với recurrent neural network. Xem:\n",
    "\n",
    "trang của tác giả thuật toán:\n",
    "http://karpathy.github.io/2015/05/21/rnn-effectiveness/\n",
    "\n",
    "https://en.wikipedia.org/wiki/Recursive_neural_network"
   ]
  },
  {
   "cell_type": "markdown",
   "metadata": {},
   "source": [
    "Trong class sau, biến ``hidden ``biểu diễn state vector, đôi khi được gọi là **hidden state**:"
   ]
  },
  {
   "cell_type": "code",
   "execution_count": 4,
   "metadata": {},
   "outputs": [],
   "source": [
    "import torch\n",
    "import torch.nn as nn\n",
    "from torch.autograd import Variable\n",
    "\n",
    "class RNN(nn.Module):\n",
    "    def __init__(self,input_size,hidden_size,output_size):\n",
    "        super(RNN,self).__init__()\n",
    "        self.hidden_size = hidden_size\n",
    "        self.in2hidden = nn.Linear(input_size + hidden_size, hidden_size)\n",
    "        self.in2out = nn.Linear(input_size + hidden_size, output_size)\n",
    "        self.softmax = nn.LogSoftmax(dim=1)\n",
    "        \n",
    "    '''gộp ``input`` với ``hidden``, và nhét vào 2 linear layers, để \n",
    "    tạo output và một hidden state. Ta áp dụng ``log_softmax`` cho output'''\n",
    "    def forward(self, input, hidden):\n",
    "        combined = torch.cat((input,hidden),1)\n",
    "        hidden = self.in2hidden(combined)\n",
    "        out = self.in2out(combined)\n",
    "        out = self.softmax(out)\n",
    "        return out,hidden\n",
    "    \n",
    "    #tạo các hidden vector không có trạng thái để gọi RNN lần đầu\n",
    "    def init_hidden(self):\n",
    "        return Variables(torch.zeros(1,self.hidden_size))"
   ]
  },
  {
   "cell_type": "code",
   "execution_count": null,
   "metadata": {},
   "outputs": [],
   "source": []
  }
 ],
 "metadata": {
  "kernelspec": {
   "display_name": "Python 2",
   "language": "python",
   "name": "python2"
  },
  "language_info": {
   "codemirror_mode": {
    "name": "ipython",
    "version": 2
   },
   "file_extension": ".py",
   "mimetype": "text/x-python",
   "name": "python",
   "nbconvert_exporter": "python",
   "pygments_lexer": "ipython2",
   "version": "2.7.15"
  }
 },
 "nbformat": 4,
 "nbformat_minor": 2
}
