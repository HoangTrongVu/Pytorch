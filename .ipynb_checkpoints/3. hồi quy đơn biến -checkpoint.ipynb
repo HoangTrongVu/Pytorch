{
 "cells": [
  {
   "cell_type": "markdown",
   "metadata": {},
   "source": [
    "Trong mô hình tuyến tính $Y=wX+b$\n",
    "\n",
    "X,Y là các đại lượng đã biết, nên ta cho require_grad=False\n",
    "\n",
    "w,b là tham số phải học, nên ta cho require_grad= True"
   ]
  },
  {
   "cell_type": "code",
   "execution_count": 2,
   "metadata": {},
   "outputs": [],
   "source": [
    "import numpy as np\n",
    "import torch\n",
    "def get_data():\n",
    "    train_X = np.random.normal(1, 1, 100)\n",
    "    train_y = train_X + np.random.normal(0, 1, 100)\n",
    "    dtype = torch.FloatTensor\n",
    "    X = Variable(torch.from_numpy(train_X).type(dtype),\n",
    "                 requires_grad = False).view(100,1)\n",
    "    y = Variable(torch.from_numpy(train_y).type(dtype),\n",
    "                 requires_grad = False)\n",
    "    return X,y"
   ]
  },
  {
   "cell_type": "code",
   "execution_count": 3,
   "metadata": {},
   "outputs": [],
   "source": [
    "def get_weights():\n",
    "    w = Variable(torch.randn(1),requires_grad = True)\n",
    "    b = Variable(torch.randn(1),requires_grad = True)\n",
    "    return w,b"
   ]
  },
  {
   "cell_type": "markdown",
   "metadata": {},
   "source": [
    "tạo một network đơn giản:"
   ]
  },
  {
   "cell_type": "code",
   "execution_count": 4,
   "metadata": {},
   "outputs": [],
   "source": [
    "def net(x):\n",
    "    y_pred = torch.mm(x,w)+b\n",
    "    return y_pred"
   ]
  },
  {
   "cell_type": "markdown",
   "metadata": {},
   "source": [
    "hàm loss là sum of square error. Do đó:"
   ]
  },
  {
   "cell_type": "code",
   "execution_count": 7,
   "metadata": {},
   "outputs": [],
   "source": [
    "def loss_fn(y,y_pred):\n",
    "    loss =  (y-y_pred).pow(2).sum() #pow(2): lấy mũ 2 (power of 2)\n",
    "    for parameter in (w,b):\n",
    "        # lặp nhiều lần => xóa những gradient đã được tính trước đó:\n",
    "        if not parameter.grad is None: \n",
    "            parameter.grad.data.zero_()  \n",
    "        loss.backward() # tính gradient cho w,b\n",
    "        return loss.data[0]"
   ]
  },
  {
   "cell_type": "markdown",
   "metadata": {},
   "source": [
    "tối ưu network:"
   ]
  },
  {
   "cell_type": "code",
   "execution_count": 8,
   "metadata": {},
   "outputs": [],
   "source": [
    "def optimize(learning_rate):\n",
    "    w.data -= learning_rate * w.grad.data\n",
    "    b.data -= learning_rate * b.grad.data"
   ]
  },
  {
   "cell_type": "code",
   "execution_count": null,
   "metadata": {},
   "outputs": [],
   "source": []
  }
 ],
 "metadata": {
  "kernelspec": {
   "display_name": "Python 2",
   "language": "python",
   "name": "python2"
  },
  "language_info": {
   "codemirror_mode": {
    "name": "ipython",
    "version": 2
   },
   "file_extension": ".py",
   "mimetype": "text/x-python",
   "name": "python",
   "nbconvert_exporter": "python",
   "pygments_lexer": "ipython2",
   "version": "2.7.15"
  }
 },
 "nbformat": 4,
 "nbformat_minor": 2
}
