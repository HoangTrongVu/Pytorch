{
 "cells": [
  {
   "cell_type": "markdown",
   "metadata": {},
   "source": [
    "# dữ liệu text trong python\n",
    "\n",
    "văn bản (text) là dữ liệu dạng chuỗi (sequential) thường gặp. Quá trình chuyển từ text sang vector được gọi là vectorization. Ta có thể thực hiện điều này bằng một trong các cách:\n",
    "\n",
    "- Chuyển text sang word và biểu diễn mỗi word bằng một vector \n",
    "\n",
    "- chuyển text sang character (ký tự) và biểu diễn  mỗi character bằng một vector \n",
    "\n",
    "- Tạo một n-gram của các từ và biểu diễn chúng dưới dạng vector \n",
    "\n",
    "Text có thể được chia nhỏ ra thành một trong những biểu diễn trên. Mỗi đơn vị nhỏ đó được gọi là một ``token``, và quá trình này được gọi là ``tokenization``. Khi ta chuyển từ text sang token, ta cần map  mỗi token thành một vector. One-hot encoding và word embedding là 2 phương pháp phổ biến nht để làm điều này.\n",
    "\n",
    "Ví dụ: trong python ta có thể dùng ``list`` để chuyển string sang character (chú ý: dấu cách cũng được xem như character):"
   ]
  },
  {
   "cell_type": "code",
   "execution_count": 1,
   "metadata": {},
   "outputs": [
    {
     "name": "stdout",
     "output_type": "stream",
     "text": [
      "['P', 'y', 't', 'h', 'o', 'n', ' ', 'i', 's', ' ', 'a', 'n', ' ', 'o', 'b', 'j', 'e', 'c', 't', 'i', 'v', 'e', ' ', 'p', 'r', 'o', 'g', 'r', 'a', 'm', 'm', 'i', 'n', 'g', ' ', 'l', 'a', 'n', 'g', 'u', 'a', 'g', 'e']\n"
     ]
    }
   ],
   "source": [
    "python_lang = \"Python is an objective programming language\"\n",
    "\n",
    "print(list(python_lang))"
   ]
  },
  {
   "cell_type": "markdown",
   "metadata": {},
   "source": [
    "để chuyển text sang word, ta dùng ``split``"
   ]
  },
  {
   "cell_type": "code",
   "execution_count": 2,
   "metadata": {},
   "outputs": [
    {
     "name": "stdout",
     "output_type": "stream",
     "text": [
      "['Python', 'is', 'an', 'objective', 'programming', 'language']\n"
     ]
    }
   ],
   "source": [
    "print(python_lang.split())"
   ]
  },
  {
   "cell_type": "markdown",
   "metadata": {},
   "source": [
    "## N gram\n",
    "\n",
    "N-gram là nhóm các từ được extract (chích xuất) từ text. Trong một **n**-gram, **n** biểu diễn của các word được sử dụng cùng nhau.\n",
    "\n",
    "Ví dụ:\n",
    "\n",
    "- Bi-gram (2-gram, $n=2$)"
   ]
  },
  {
   "cell_type": "code",
   "execution_count": 6,
   "metadata": {},
   "outputs": [
    {
     "name": "stdout",
     "output_type": "stream",
     "text": [
      "[('Python', 'is'), ('is', 'an'), ('an', 'objective'), ('objective', 'programming'), ('programming', 'language')]\n"
     ]
    }
   ],
   "source": [
    "from nltk import ngrams\n",
    "print(list(ngrams(python_lang.split(),2)))"
   ]
  },
  {
   "cell_type": "markdown",
   "metadata": {},
   "source": [
    "(nếu chưa có package nltk, bạn dùng lệnh \n",
    " `` conda install -c anaconda nltk`` \n",
    " trong anaconda để lắp)"
   ]
  },
  {
   "cell_type": "markdown",
   "metadata": {},
   "source": [
    "- Tri-gram ($n=3$):"
   ]
  },
  {
   "cell_type": "code",
   "execution_count": 8,
   "metadata": {},
   "outputs": [
    {
     "name": "stdout",
     "output_type": "stream",
     "text": [
      "[('Python', 'is', 'an'), ('is', 'an', 'objective'), ('an', 'objective', 'programming'), ('objective', 'programming', 'language')]\n"
     ]
    }
   ],
   "source": [
    "print(list(ngrams(python_lang.split(),3)))"
   ]
  },
  {
   "cell_type": "markdown",
   "metadata": {},
   "source": [
    "## Vectorization\n",
    "\n",
    "### One-hot encoding:"
   ]
  },
  {
   "cell_type": "code",
   "execution_count": 10,
   "metadata": {},
   "outputs": [
    {
     "name": "stdout",
     "output_type": "stream",
     "text": [
      "{'language': 6, 'Python': 1, 'is': 2, 'programming': 5, 'an': 3, 'objective': 4}\n"
     ]
    }
   ],
   "source": [
    "import numpy as np\n",
    "\n",
    "# tạo class để lưu các word và index (ta không tính các word lặp lại)\n",
    "class dict(object):\n",
    "    \n",
    "    def __init__(self):\n",
    "        self.word_to_index = {}\n",
    "        self.index_to_word = []\n",
    "        self.length = 0\n",
    "        \n",
    "    def add_word(self,word):\n",
    "        if word not in self.index_to_word:\n",
    "            self.index_to_word.append(word)\n",
    "            self.word_to_index[word] = self.length + 1\n",
    "            self.length += 1\n",
    "            return self.word_to_index[word]\n",
    "    \n",
    "    def __len__(self):\n",
    "        return len(self.index_to_word)\n",
    "    \n",
    "    def onehot_encoded(self,word):\n",
    "        vec = np.zeros(self.length)\n",
    "        vec[self.word_to_index[word]] = 1\n",
    "        return vec\n",
    "\n",
    "dic = dict()\n",
    "\n",
    "for toke in python_lang.split():\n",
    "    dic.add_word(toke)\n",
    "\n",
    "print(dic.word_to_index)"
   ]
  },
  {
   "cell_type": "code",
   "execution_count": 18,
   "metadata": {},
   "outputs": [
    {
     "data": {
      "text/plain": [
       "array([0., 1., 0., 0., 0., 0.])"
      ]
     },
     "execution_count": 18,
     "metadata": {},
     "output_type": "execute_result"
    }
   ],
   "source": [
    "dic.onehot_encoded('Python')"
   ]
  },
  {
   "cell_type": "markdown",
   "metadata": {},
   "source": [
    "### Word Embedding:\n",
    "\n",
    "Nếu ta biểu diễn một text có độ dài 10 000 trong one-hot encoding thì ta sẽ có 10 000 vector có độ dài 10 000, mà hầu hết các thành phần trong các vector này có giá trị bằng 0."
   ]
  },
  {
   "cell_type": "markdown",
   "metadata": {},
   "source": [
    "``torchtext`` là một phần của PyTorch dành cho NLP. Để lắp trong conda: `` conda install -c derickl torchtext ``"
   ]
  },
  {
   "cell_type": "code",
   "execution_count": null,
   "metadata": {},
   "outputs": [],
   "source": []
  }
 ],
 "metadata": {
  "kernelspec": {
   "display_name": "Python 2",
   "language": "python",
   "name": "python2"
  },
  "language_info": {
   "codemirror_mode": {
    "name": "ipython",
    "version": 2
   },
   "file_extension": ".py",
   "mimetype": "text/x-python",
   "name": "python",
   "nbconvert_exporter": "python",
   "pygments_lexer": "ipython2",
   "version": "2.7.15"
  }
 },
 "nbformat": 4,
 "nbformat_minor": 2
}
